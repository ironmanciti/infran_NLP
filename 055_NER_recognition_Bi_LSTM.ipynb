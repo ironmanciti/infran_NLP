{
 "cells": [
  {
   "cell_type": "markdown",
   "metadata": {
    "id": "ahCf1bGDKRlD"
   },
   "source": [
    "# 055. 양방향 LSTM을 이용한 개체명 인식\n",
    "\n",
    "- Named Entity Recognition using Bi-LSTM\n",
    "\n",
    "\n",
    "- 개체명 인식은 챗봇 등에서 필요로 하는 주요 전처리 작업  (질문 문장의 어절을 일반화시키는 과정에서 개체명(Named Entity) 인식 사전을 활용)\n",
    "\n",
    "\n",
    "- 도메인 또는 목적에 특화되도록 개체명 인식을 정확하게 하는 방법 중 하나는 기존에 공개된 개체명 인식기를 사용하는 것이 아니라, 직접 목적에 맞는 데이터를 준비하여 기계를 훈련시켜 모델을 만드는 방법임  \n",
    "\n",
    "\n",
    "### BIO \n",
    "- B (Begin) - 개체명이 시작되는 부분  \n",
    "- I (Inside) - 개체명의 내부 부분  \n",
    "- O (Outside) - 개체명이 아닌 부분\n",
    "\n",
    "\n",
    "- 각 개체가 어떤 종류인지도 함께 태깅  \n",
    "```\n",
    "해 B-movie  \n",
    "리 I-movie  \n",
    "포 I-movie  \n",
    "터 I-movie  \n",
    "보 O  \n",
    "러 O  \n",
    "메 B-theater  \n",
    "가 I-theater  \n",
    "박 I-theater  \n",
    "스 I-theater  \n",
    "가 O  \n",
    "자 O  \n",
    "```\n",
    "\n"
   ]
  },
  {
   "cell_type": "markdown",
   "metadata": {
    "id": "F9lEkj0JKRlF"
   },
   "source": [
    "### CoNLL2003 dataset 이용\n",
    "\n",
    "- CoNLL -  the Conference on Natural Language Learning  \n",
    "\n",
    "\n",
    "- https://raw.githubusercontent.com/Franck-Dernoncourt/NeuroNER/master/neuroner/data/conll2003/en/train.txt  에서 download  \n",
    "\n",
    "\n",
    "\n",
    "- `[word][pos Tagging][chunk tagging][named entity tagging]` 의 4 column 형식으로 구성   \n",
    "\n",
    "\n",
    "- NE(Named Entity) tagging :   \n",
    "    LOC - location,   \n",
    "    ORG - organization,  \n",
    "    PER - person,   \n",
    "    MISC - miscellaneous,   \n",
    "    B - phrase 시작,   \n",
    "    I - inside phrase,   \n",
    "    O - phrase 의 일부가 아님\n",
    "```\n",
    "The DT B-NP O                             # 개체명 아님               \n",
    "European NNP I-NP B-ORG            # ORG type phrase 시작 \n",
    "Commission NNP I-NP I-ORG         # phrase 에 속함 - ORG\n",
    "said VBD B-VP O                           # 개체명 아님\n",
    "on IN B-PP O\n",
    "Thursday NNP B-NP O\n",
    "it PRP B-NP O\n",
    "disagreed VBD B-VP O\n",
    "with IN B-PP O\n",
    "German JJ B-NP B-MISC                # MISC type phrase 시작\n",
    "advice NN I-NP O\n",
    "to TO B-PP O\n",
    "consumers NNS B-NP O\n",
    "to TO B-VP O\n",
    "shun VB I-VP O\n",
    "```"
   ]
  },
  {
   "cell_type": "markdown",
   "metadata": {
    "id": "JnYbpFg8KRlG"
   },
   "source": [
    "## Dataset download 및 전처리"
   ]
  },
  {
   "cell_type": "code",
   "execution_count": 1,
   "metadata": {
    "id": "5UnF6hiIKRlH"
   },
   "outputs": [],
   "source": [
    "import re\n",
    "import matplotlib.pyplot as plt\n",
    "import tensorflow as tf\n",
    "from tensorflow.keras.models import Sequential\n",
    "from tensorflow.keras.layers import Dense, LSTM, Bidirectional, Embedding, Activation\n",
    "from tensorflow.keras.optimizers import Adam\n",
    "from tensorflow.keras.preprocessing.text import Tokenizer\n",
    "from tensorflow.keras.preprocessing.sequence import pad_sequences\n",
    "from tensorflow.keras.utils import to_categorical\n",
    "from sklearn.model_selection import train_test_split\n",
    "import numpy as np"
   ]
  },
  {
   "cell_type": "markdown",
   "metadata": {
    "id": "x5J6R1UAKRlO"
   },
   "source": [
    "- `-DOCSTART- -X- -X- O` 로 file 시작\n",
    "-  문장 사이는 empty line 으로 구분 "
   ]
  },
  {
   "cell_type": "code",
   "execution_count": 2,
   "metadata": {
    "id": "fx-IWiw4KRlP"
   },
   "outputs": [
    {
     "name": "stdout",
     "output_type": "stream",
     "text": [
      "Downloading data from https://raw.githubusercontent.com/Franck-Dernoncourt/NeuroNER/master/neuroner/data/conll2003/en/train.txt\n",
      "3283420/3283420 [==============================] - 1s 0us/step\n"
     ]
    }
   ],
   "source": [
    "file_path = tf.keras.utils.get_file(\"train.txt\", \n",
    "    \"https://raw.githubusercontent.com/Franck-Dernoncourt/NeuroNER/master/neuroner/data/conll2003/en/train.txt\")"
   ]
  },
  {
   "cell_type": "code",
   "execution_count": 3,
   "metadata": {
    "colab": {
     "base_uri": "https://localhost:8080/"
    },
    "id": "NORkN756cm6c",
    "outputId": "e71b004c-e49f-4715-e105-a521ae7786ba"
   },
   "outputs": [
    {
     "name": "stdout",
     "output_type": "stream",
     "text": [
      "'-DOCSTART- -X- -X- O\\n'\n",
      "'\\n'\n",
      "'EU NNP B-NP B-ORG\\n'\n",
      "'rejects VBZ B-VP O\\n'\n",
      "'German JJ B-NP B-MISC\\n'\n",
      "'call NN I-NP O\\n'\n",
      "'to TO B-VP O\\n'\n",
      "'boycott VB I-VP O\\n'\n",
      "'British JJ B-NP B-MISC\\n'\n",
      "'lamb NN I-NP O\\n'\n",
      "'. . O O\\n'\n",
      "'\\n'\n",
      "'Peter NNP B-NP B-PER\\n'\n",
      "'Blackburn NNP I-NP I-PER\\n'\n",
      "'\\n'\n",
      "'BRUSSELS NNP B-NP B-LOC\\n'\n",
      "'1996-08-22 CD I-NP O\\n'\n",
      "'\\n'\n",
      "'The DT B-NP O\\n'\n",
      "'European NNP I-NP B-ORG\\n'\n"
     ]
    }
   ],
   "source": [
    "for line in open(file_path, 'r').readlines()[:20]:\n",
    "    print(repr(line))"
   ]
  },
  {
   "cell_type": "code",
   "execution_count": 4,
   "metadata": {
    "id": "mfgqkUBrKRlT"
   },
   "outputs": [],
   "source": [
    "tagged_sentences = []\n",
    "sentence = []\n",
    "\n",
    "for line in open(file_path, 'r'):\n",
    "    if len(line) == 0 or line.startswith('-DOCSTART') or line[0] == \"\\n\":\n",
    "        if len(sentence) > 0:\n",
    "            tagged_sentences.append(sentence)\n",
    "            sentence = []\n",
    "        continue\n",
    "        \n",
    "    word, pos_tag, chunk_tag, ner = line.split(' ')   # 공백을 기준으로 속성을 구분 \n",
    "    ner = re.sub('\\n', '', ner)         #['German', 'JJ', 'B-NP', 'B-MISC\\n'] 에서 줄바꿈 제거\n",
    "    word = word.lower()                         # 단어들은 소문자로 바꿔서 저장\n",
    "    sentence.append((word, ner))                # 단어와 개체명 태깅만 사용"
   ]
  },
  {
   "cell_type": "code",
   "execution_count": 5,
   "metadata": {
    "colab": {
     "base_uri": "https://localhost:8080/"
    },
    "id": "Sw2Eds7yKRlX",
    "outputId": "dc5bca75-de6b-427d-ccd1-0fd591219ef6"
   },
   "outputs": [
    {
     "name": "stdout",
     "output_type": "stream",
     "text": [
      "전체 샘플 개수:  14041\n"
     ]
    },
    {
     "data": {
      "text/plain": [
       "[[('eu', 'B-ORG'),\n",
       "  ('rejects', 'O'),\n",
       "  ('german', 'B-MISC'),\n",
       "  ('call', 'O'),\n",
       "  ('to', 'O'),\n",
       "  ('boycott', 'O'),\n",
       "  ('british', 'B-MISC'),\n",
       "  ('lamb', 'O'),\n",
       "  ('.', 'O')],\n",
       " [('peter', 'B-PER'), ('blackburn', 'I-PER')],\n",
       " [('brussels', 'B-LOC'), ('1996-08-22', 'O')]]"
      ]
     },
     "execution_count": 5,
     "metadata": {},
     "output_type": "execute_result"
    }
   ],
   "source": [
    "print(\"전체 샘플 개수: \", len(tagged_sentences)) # 전체 샘플의 개수 출력\n",
    "tagged_sentences[:3]"
   ]
  },
  {
   "cell_type": "markdown",
   "metadata": {
    "id": "6UazdW9-KRlb"
   },
   "source": [
    "## N to N model\n",
    "\n",
    "### input, label data 작성을 위해 단어와 tag 를 분리"
   ]
  },
  {
   "cell_type": "code",
   "execution_count": 6,
   "metadata": {
    "colab": {
     "base_uri": "https://localhost:8080/"
    },
    "id": "DCiFt-8jKRlb",
    "outputId": "45751fc0-af09-4b27-df09-c8b08143a239"
   },
   "outputs": [
    {
     "name": "stdout",
     "output_type": "stream",
     "text": [
      "['eu', 'rejects', 'german', 'call', 'to', 'boycott', 'british', 'lamb', '.']\n",
      "['B-ORG', 'O', 'B-MISC', 'O', 'O', 'O', 'B-MISC', 'O', 'O']\n"
     ]
    }
   ],
   "source": [
    "inputs, labels =[], [] \n",
    "\n",
    "for pairs in tagged_sentences:\n",
    "    words, tags = zip(*pairs)\n",
    "    inputs.append(list(words))\n",
    "    labels.append(list(tags))\n",
    "\n",
    "# Let's see how a sequence looks\n",
    "print(inputs[0])\n",
    "print(labels[0])"
   ]
  },
  {
   "cell_type": "code",
   "execution_count": 7,
   "metadata": {
    "colab": {
     "base_uri": "https://localhost:8080/",
     "height": 316
    },
    "id": "xb9fz0gJKRle",
    "outputId": "a6d0e235-6793-4bd6-dd62-73104cd77543"
   },
   "outputs": [
    {
     "name": "stdout",
     "output_type": "stream",
     "text": [
      "샘플의 최대 길이 : 113\n",
      "샘플의 평균 길이 : 14.501887\n"
     ]
    },
    {
     "data": {
      "image/png": "[encoded data removed]",
      "text/plain": [
       "<Figure size 432x288 with 1 Axes>"
      ]
     },
     "metadata": {
      "needs_background": "light"
     },
     "output_type": "display_data"
    }
   ],
   "source": [
    "print('샘플의 최대 길이 : {}'.format(max([len(w) for w in inputs])))\n",
    "print('샘플의 평균 길이 : {:4f}'.format(np.mean([len(w) for w in inputs])))\n",
    "plt.hist([len(s) for s in inputs], bins=50)\n",
    "plt.xlabel('length of samples')\n",
    "plt.ylabel('number of samples')\n",
    "plt.show()"
   ]
  },
  {
   "cell_type": "markdown",
   "metadata": {
    "id": "p1AaGLrrKRli"
   },
   "source": [
    "**sample 들의 길이가 대체적으로 0-40의 길이를 가지며, 특히 0-20의 길이를 가진 샘플이 상당한 비율을 차지**\n",
    "\n",
    "**keras 는 fixed size sequence 만 handling 가능하므로 max sequence length 를 60 으로 정함**"
   ]
  },
  {
   "cell_type": "code",
   "execution_count": 8,
   "metadata": {
    "id": "aV65lEC8KRlj"
   },
   "outputs": [],
   "source": [
    "MAX_LENGTH = 60"
   ]
  },
  {
   "cell_type": "markdown",
   "metadata": {
    "id": "aq76Z4n8KRlm"
   },
   "source": [
    "### 전체 word 수 check"
   ]
  },
  {
   "cell_type": "code",
   "execution_count": 9,
   "metadata": {
    "colab": {
     "base_uri": "https://localhost:8080/"
    },
    "id": "A_1epzSgKRlm",
    "outputId": "ec0d2829-5234-4463-f24b-18aac34e6ce3"
   },
   "outputs": [
    {
     "name": "stdout",
     "output_type": "stream",
     "text": [
      "21009\n"
     ]
    }
   ],
   "source": [
    "tokenizer = Tokenizer()\n",
    "tokenizer.fit_on_texts(inputs)\n",
    "\n",
    "print(len(tokenizer.word_index))"
   ]
  },
  {
   "cell_type": "markdown",
   "metadata": {
    "id": "9VRiHehXKRlp"
   },
   "source": [
    "전체 token 갯수가 21009 개 이므로 상위 4000 개로 제한하여 vocabulary 재작성하고,  문장 데이터에 대해서는 entity_tokenizer를, 레이블에 해당되는 개체명 태깅 정보에 대해서는 tag_tokenizer를 작성"
   ]
  },
  {
   "cell_type": "code",
   "execution_count": 10,
   "metadata": {
    "id": "0fsoMdi3KRlp"
   },
   "outputs": [],
   "source": [
    "MAX_WORDS = 4000"
   ]
  },
  {
   "cell_type": "markdown",
   "metadata": {
    "id": "Xt93E8RcKRls"
   },
   "source": [
    "### train, test split"
   ]
  },
  {
   "cell_type": "code",
   "execution_count": 11,
   "metadata": {
    "colab": {
     "base_uri": "https://localhost:8080/"
    },
    "id": "Rb6uDARcKRlt",
    "outputId": "54946360-9e60-4d4b-c5b3-63a56e915941"
   },
   "outputs": [
    {
     "data": {
      "text/plain": [
       "(11232, 2809, 11232, 2809)"
      ]
     },
     "execution_count": 11,
     "metadata": {},
     "output_type": "execute_result"
    }
   ],
   "source": [
    "train_sentences, test_sentences, train_tags, test_tags \\\n",
    "                = train_test_split(inputs, labels, test_size=0.2)\n",
    "len(train_sentences), len(test_sentences), len(train_tags), len(test_tags)"
   ]
  },
  {
   "cell_type": "markdown",
   "metadata": {
    "id": "-aS7XCCGKRlv"
   },
   "source": [
    "### word vocabulary 작성\n",
    "\n",
    "- train data 는 validation set 을 볼 수 없으므로, entity tokenizer는 train_sentences 에 대해서만 tokenize 하고, tag tokenizer 는 전체 labels 에 대해 tokenize 한다."
   ]
  },
  {
   "cell_type": "code",
   "execution_count": 12,
   "metadata": {
    "colab": {
     "base_uri": "https://localhost:8080/"
    },
    "id": "UhI4XBREKRlv",
    "outputId": "8e55f98a-7f0a-4412-e35a-82bb44585a3e"
   },
   "outputs": [
    {
     "name": "stdout",
     "output_type": "stream",
     "text": [
      "단어 집합의 크기 : 4001\n",
      "개체명 태깅 정보 집합의 크기 : 10\n"
     ]
    }
   ],
   "source": [
    "entity_tokenizer = Tokenizer(num_words=MAX_WORDS, oov_token='<OOV>')\n",
    "entity_tokenizer.fit_on_texts(train_sentences)\n",
    "\n",
    "tag_tokenizer = Tokenizer()\n",
    "tag_tokenizer.fit_on_texts(labels)\n",
    "\n",
    "vocab_size = entity_tokenizer.num_words + 1      # MAX_WORDS\n",
    "tag_size = len(tag_tokenizer.word_index) + 1       #전체 word_index 갯수\n",
    "\n",
    "print('단어 집합의 크기 : {}'.format(vocab_size))\n",
    "print('개체명 태깅 정보 집합의 크기 : {}'.format(tag_size))"
   ]
  },
  {
   "cell_type": "code",
   "execution_count": 13,
   "metadata": {
    "colab": {
     "base_uri": "https://localhost:8080/"
    },
    "id": "vZyrDz3vKRl0",
    "outputId": "bf8d3242-7e1d-4673-ac8a-a1e469ec52b9"
   },
   "outputs": [
    {
     "name": "stdout",
     "output_type": "stream",
     "text": [
      "{'o': 1, 'b-loc': 2, 'b-per': 3, 'b-org': 4, 'i-per': 5, 'i-org': 6, 'b-misc': 7, 'i-loc': 8, 'i-misc': 9}\n"
     ]
    }
   ],
   "source": [
    "print(tag_tokenizer.word_index)"
   ]
  },
  {
   "cell_type": "markdown",
   "metadata": {
    "id": "C81KquxQKRl2"
   },
   "source": [
    "### pad sequences  \n",
    "\n",
    "- sentence 와 tag 를 sequence 로 변환  "
   ]
  },
  {
   "cell_type": "code",
   "execution_count": 14,
   "metadata": {
    "colab": {
     "base_uri": "https://localhost:8080/"
    },
    "id": "AwA0kLfBKRl2",
    "outputId": "d7af0bfc-2325-41f3-b7fe-7b0f3c86e1fd"
   },
   "outputs": [
    {
     "data": {
      "text/plain": [
       "(11232, 11232, 2809, 2809)"
      ]
     },
     "execution_count": 14,
     "metadata": {},
     "output_type": "execute_result"
    }
   ],
   "source": [
    "X_train = entity_tokenizer.texts_to_sequences(train_sentences)\n",
    "y_train = tag_tokenizer.texts_to_sequences(train_tags)\n",
    "\n",
    "X_test = entity_tokenizer.texts_to_sequences(test_sentences)\n",
    "y_test = tag_tokenizer.texts_to_sequences(test_tags)\n",
    "\n",
    "len(X_train), len(y_train), len(X_test), len(y_test)"
   ]
  },
  {
   "cell_type": "code",
   "execution_count": 15,
   "metadata": {
    "colab": {
     "base_uri": "https://localhost:8080/"
    },
    "id": "Afj1xl_A6Y9O",
    "outputId": "3a4a046f-fbe4-4fa6-9bb7-75e289ed92c4"
   },
   "outputs": [
    {
     "data": {
      "text/plain": [
       "([2462, 10, 51, 1528, 11, 1340, 1, 1, 1, 18, 1],\n",
       " [1, 1, 1, 1, 1, 1, 1, 1, 1, 1, 1])"
      ]
     },
     "execution_count": 15,
     "metadata": {},
     "output_type": "execute_result"
    }
   ],
   "source": [
    "X_train[0], y_train[0]"
   ]
  },
  {
   "cell_type": "code",
   "execution_count": 16,
   "metadata": {
    "colab": {
     "base_uri": "https://localhost:8080/"
    },
    "id": "FDfNbWaWKRl5",
    "outputId": "43f78a94-0220-41f8-a38f-663581472df6"
   },
   "outputs": [
    {
     "name": "stdout",
     "output_type": "stream",
     "text": [
      "[2462   10   51 1528   11 1340    1    1    1   18    1    0    0    0\n",
      "    0    0    0    0    0    0    0    0    0    0    0    0    0    0\n",
      "    0    0    0    0    0    0    0    0    0    0    0    0    0    0\n",
      "    0    0    0    0    0    0    0    0    0    0    0    0    0    0\n",
      "    0    0    0    0]\n",
      "[  1  55  22  17  49  17 211  17   0   0   0   0   0   0   0   0   0   0\n",
      "   0   0   0   0   0   0   0   0   0   0   0   0   0   0   0   0   0   0\n",
      "   0   0   0   0   0   0   0   0   0   0   0   0   0   0   0   0   0   0\n",
      "   0   0   0   0   0   0]\n",
      "[1 1 1 1 1 1 1 1 1 1 1 0 0 0 0 0 0 0 0 0 0 0 0 0 0 0 0 0 0 0 0 0 0 0 0 0 0\n",
      " 0 0 0 0 0 0 0 0 0 0 0 0 0 0 0 0 0 0 0 0 0 0 0]\n",
      "[4 1 1 1 1 1 1 1 0 0 0 0 0 0 0 0 0 0 0 0 0 0 0 0 0 0 0 0 0 0 0 0 0 0 0 0 0\n",
      " 0 0 0 0 0 0 0 0 0 0 0 0 0 0 0 0 0 0 0 0 0 0 0]\n"
     ]
    }
   ],
   "source": [
    "X_train_padded = pad_sequences(X_train, maxlen=MAX_LENGTH, padding='post')\n",
    "X_test_padded = pad_sequences(X_test, maxlen=MAX_LENGTH, padding='post')\n",
    "y_train_padded = pad_sequences(y_train, maxlen=MAX_LENGTH, padding='post')\n",
    "y_test_padded  = pad_sequences(y_test, maxlen=MAX_LENGTH, padding='post')\n",
    " \n",
    "print(X_train_padded[0])\n",
    "print(X_test_padded[0])\n",
    "print(y_train_padded[0])\n",
    "print(y_test_padded[0])"
   ]
  },
  {
   "cell_type": "code",
   "execution_count": null,
   "metadata": {},
   "outputs": [],
   "source": [
    "y_train_onehot = to_categorical(y_train_padded, tag_size)\n",
    "y_test_onehot = to_categorical(y_test_padded, tag_size)"
   ]
  },
  {
   "cell_type": "markdown",
   "metadata": {
    "id": "Zv9klpOtKRl7"
   },
   "source": [
    "### many-to-many model 이므로 return_sequences=True 로 설정"
   ]
  },
  {
   "cell_type": "code",
   "execution_count": 17,
   "metadata": {
    "colab": {
     "base_uri": "https://localhost:8080/"
    },
    "id": "s5NN32KZKRl8",
    "outputId": "e5e732b1-3bae-4d9e-e972-c53663a4360c"
   },
   "outputs": [
    {
     "name": "stdout",
     "output_type": "stream",
     "text": [
      "Model: \"sequential\"\n",
      "_________________________________________________________________\n",
      " Layer (type)                Output Shape              Param #   \n",
      "=================================================================\n",
      " embedding (Embedding)       (None, None, 128)         512128    \n",
      "                                                                 \n",
      " bidirectional (Bidirectiona  (None, None, 512)        788480    \n",
      " l)                                                              \n",
      "                                                                 \n",
      " dense (Dense)               (None, None, 10)          5130      \n",
      "                                                                 \n",
      "=================================================================\n",
      "Total params: 1,305,738\n",
      "Trainable params: 1,305,738\n",
      "Non-trainable params: 0\n",
      "_________________________________________________________________\n"
     ]
    }
   ],
   "source": [
    "model = Sequential()\n",
    "model.add(Embedding(vocab_size, 128))\n",
    "model.add(Bidirectional(LSTM(256, return_sequences=True)))\n",
    "model.add(Dense(tag_size, activation='softmax'))\n",
    " \n",
    "model.compile(loss='categorical_crossentropy', optimizer=Adam(0.001), metrics=['accuracy'])\n",
    "model.build(input_shape=(None, MAX_LENGTH))\n",
    "model.summary()"
   ]
  },
  {
   "cell_type": "code",
   "execution_count": 19,
   "metadata": {
    "colab": {
     "base_uri": "https://localhost:8080/"
    },
    "id": "BcuHXafvKRmC",
    "outputId": "cbe5fcc1-2713-4102-dff1-4d6acacc842a",
    "scrolled": true
   },
   "outputs": [
    {
     "name": "stdout",
     "output_type": "stream",
     "text": [
      "Epoch 1/10\n",
      "88/88 [==============================] - 13s 35ms/step - loss: 0.3664 - accuracy: 0.9243 - val_loss: 0.1963 - val_accuracy: 0.9584\n",
      "Epoch 2/10\n",
      "88/88 [==============================] - 2s 23ms/step - loss: 0.1677 - accuracy: 0.9595 - val_loss: 0.1335 - val_accuracy: 0.9608\n",
      "Epoch 3/10\n",
      "88/88 [==============================] - 2s 23ms/step - loss: 0.1099 - accuracy: 0.9671 - val_loss: 0.0987 - val_accuracy: 0.9697\n",
      "Epoch 4/10\n",
      "88/88 [==============================] - 2s 23ms/step - loss: 0.0851 - accuracy: 0.9748 - val_loss: 0.0814 - val_accuracy: 0.9761\n",
      "Epoch 5/10\n",
      "88/88 [==============================] - 2s 23ms/step - loss: 0.0671 - accuracy: 0.9806 - val_loss: 0.0650 - val_accuracy: 0.9814\n",
      "Epoch 6/10\n",
      "88/88 [==============================] - 2s 24ms/step - loss: 0.0510 - accuracy: 0.9854 - val_loss: 0.0526 - val_accuracy: 0.9849\n",
      "Epoch 7/10\n",
      "88/88 [==============================] - 2s 23ms/step - loss: 0.0403 - accuracy: 0.9883 - val_loss: 0.0470 - val_accuracy: 0.9865\n",
      "Epoch 8/10\n",
      "88/88 [==============================] - 2s 24ms/step - loss: 0.0340 - accuracy: 0.9901 - val_loss: 0.0434 - val_accuracy: 0.9875\n",
      "Epoch 9/10\n",
      "88/88 [==============================] - 2s 23ms/step - loss: 0.0293 - accuracy: 0.9913 - val_loss: 0.0416 - val_accuracy: 0.9879\n",
      "Epoch 10/10\n",
      "88/88 [==============================] - 2s 23ms/step - loss: 0.0259 - accuracy: 0.9923 - val_loss: 0.0413 - val_accuracy: 0.9881\n"
     ]
    },
    {
     "data": {
      "text/plain": [
       "<keras.callbacks.History at 0x7f9c401aec10>"
      ]
     },
     "execution_count": 19,
     "metadata": {},
     "output_type": "execute_result"
    }
   ],
   "source": [
    "model.fit(X_train_padded, y_train_onehot , batch_size=128, epochs=10, \n",
    "              validation_data=(X_test_padded, y_test_onehot))"
   ]
  },
  {
   "cell_type": "code",
   "execution_count": 20,
   "metadata": {
    "colab": {
     "base_uri": "https://localhost:8080/"
    },
    "id": "HBB3LwX7KRmE",
    "outputId": "2785c0e9-0439-495a-a2df-49169b6d4892"
   },
   "outputs": [
    {
     "name": "stdout",
     "output_type": "stream",
     "text": [
      "accuracy: 98.81333708763123\n"
     ]
    }
   ],
   "source": [
    "scores = model.evaluate(X_test_padded, y_test_onehot, verbose=0)\n",
    "print(f\"{model.metrics_names[1]}: {scores[1] * 100}\")   "
   ]
  },
  {
   "cell_type": "markdown",
   "metadata": {
    "id": "MJB__Gmfxb9p"
   },
   "source": [
    "### test inference"
   ]
  },
  {
   "cell_type": "code",
   "execution_count": 21,
   "metadata": {
    "id": "eanZgTRSKRmH"
   },
   "outputs": [],
   "source": [
    "test_sample = [\"EU gave German call to take British people\"]"
   ]
  },
  {
   "cell_type": "code",
   "execution_count": 22,
   "metadata": {
    "colab": {
     "base_uri": "https://localhost:8080/"
    },
    "id": "jRIlS_COKRmJ",
    "outputId": "004843ad-4a4a-431a-d2fc-501580430e0a"
   },
   "outputs": [
    {
     "data": {
      "text/plain": [
       "array([[1143,  422,  202,  711,    7,  285,  223,   95,    0,    0,    0,\n",
       "           0,    0,    0,    0,    0,    0,    0,    0,    0,    0,    0,\n",
       "           0,    0,    0,    0,    0,    0,    0,    0,    0,    0,    0,\n",
       "           0,    0,    0,    0,    0,    0,    0,    0,    0,    0,    0,\n",
       "           0,    0,    0,    0,    0,    0,    0,    0,    0,    0,    0,\n",
       "           0,    0,    0,    0,    0]], dtype=int32)"
      ]
     },
     "execution_count": 22,
     "metadata": {},
     "output_type": "execute_result"
    }
   ],
   "source": [
    "test_sample_tokenized = entity_tokenizer.texts_to_sequences(test_sample)\n",
    "test_sample_padded = pad_sequences(test_sample_tokenized, maxlen=MAX_LENGTH, padding='post')\n",
    "test_sample_padded"
   ]
  },
  {
   "cell_type": "code",
   "execution_count": 23,
   "metadata": {
    "id": "EzsjSgSSKRmN"
   },
   "outputs": [],
   "source": [
    "index2word =entity_tokenizer.index_word\n",
    "index2tag = tag_tokenizer.index_word"
   ]
  },
  {
   "cell_type": "code",
   "execution_count": 24,
   "metadata": {
    "colab": {
     "base_uri": "https://localhost:8080/"
    },
    "id": "rJxsVUyXKRmS",
    "outputId": "4a366650-6a57-45a6-b794-4b16f547cc32"
   },
   "outputs": [
    {
     "data": {
      "text/plain": [
       "array([[4, 1, 7, 1, 1, 1, 7, 1, 0, 0, 0, 0, 0, 0, 0, 0, 0, 0, 0, 0, 0, 0,\n",
       "        0, 0, 0, 0, 0, 0, 0, 0, 0, 0, 0, 0, 0, 0, 0, 0, 0, 0, 0, 0, 0, 0,\n",
       "        0, 0, 0, 0, 0, 0, 0, 0, 0, 0, 0, 0, 0, 0, 0, 0]])"
      ]
     },
     "execution_count": 24,
     "metadata": {},
     "output_type": "execute_result"
    }
   ],
   "source": [
    "y_predicted = model.predict(test_sample_padded)\n",
    "y_pred = y_predicted.argmax(axis=-1)\n",
    "y_pred"
   ]
  },
  {
   "cell_type": "code",
   "execution_count": 25,
   "metadata": {
    "colab": {
     "base_uri": "https://localhost:8080/"
    },
    "id": "fKsQpvwK_0eR",
    "outputId": "b0760845-6c9d-4632-b2d1-57b55e0a9a3e"
   },
   "outputs": [
    {
     "data": {
      "text/plain": [
       "[[1143, 422, 202, 711, 7, 285, 223, 95]]"
      ]
     },
     "execution_count": 25,
     "metadata": {},
     "output_type": "execute_result"
    }
   ],
   "source": [
    "test_sample_tokenized"
   ]
  },
  {
   "cell_type": "code",
   "execution_count": 26,
   "metadata": {
    "colab": {
     "base_uri": "https://localhost:8080/"
    },
    "id": "LiT0XiKRKRmW",
    "outputId": "db1f40e6-6a22-440c-bbf4-6ebd04612d65"
   },
   "outputs": [
    {
     "name": "stdout",
     "output_type": "stream",
     "text": [
      "eu :  B-ORG\n",
      "gave :  O\n",
      "german :  B-MISC\n",
      "call :  O\n",
      "to :  O\n",
      "take :  O\n",
      "british :  B-MISC\n",
      "people :  O\n"
     ]
    }
   ],
   "source": [
    "for i in range(len(test_sample_tokenized)):\n",
    "    for word, tag in zip([index2word.get(x, '?') for x in test_sample_tokenized[i]], \n",
    "                                  [index2tag.get(y, '?') for y in y_pred[i]]):\n",
    "        if word != '<OOV>' and word != '?' and tag !='?':\n",
    "            print(f'{word} :  {tag.upper()}')"
   ]
  },
  {
   "cell_type": "code",
   "execution_count": 26,
   "metadata": {
    "id": "6Q_kQ_NSiKec"
   },
   "outputs": [],
   "source": []
  }
 ],
 "metadata": {
  "accelerator": "GPU",
  "colab": {
   "collapsed_sections": [],
   "name": "055_NER_recognition_Bi_LSTM.ipynb",
   "provenance": []
  },
  "kernelspec": {
   "display_name": "Python 3 (ipykernel)",
   "language": "python",
   "name": "python3"
  },
  "language_info": {
   "codemirror_mode": {
    "name": "ipython",
    "version": 3
   },
   "file_extension": ".py",
   "mimetype": "text/x-python",
   "name": "python",
   "nbconvert_exporter": "python",
   "pygments_lexer": "ipython3",
   "version": "3.8.13"
  }
 },
 "nbformat": 4,
 "nbformat_minor": 4
}
